{
  "nbformat": 4,
  "nbformat_minor": 0,
  "metadata": {
    "colab": {
      "provenance": [],
      "authorship_tag": "ABX9TyMo9XWyqINncTNPoqRLBWIN",
      "include_colab_link": true
    },
    "kernelspec": {
      "name": "python3",
      "display_name": "Python 3"
    },
    "language_info": {
      "name": "python"
    }
  },
  "cells": [
    {
      "cell_type": "markdown",
      "metadata": {
        "id": "view-in-github",
        "colab_type": "text"
      },
      "source": [
        "<a href=\"https://colab.research.google.com/github/igBerroteran/2-auth-password/blob/main/Scraping_Loto.ipynb\" target=\"_parent\"><img src=\"https://colab.research.google.com/assets/colab-badge.svg\" alt=\"Open In Colab\"/></a>"
      ]
    },
    {
      "cell_type": "code",
      "source": [
        "import requests\n",
        "from bs4 import BeautifulSoup\n",
        "\n",
        "# Obtener el HTML de la página\n",
        "url = 'https://www.lotterypost.com/results/qc/banco'\n",
        "response = requests.get(url)\n",
        "html = response.text\n",
        "\n",
        "# Parsear el HTML\n",
        "soup = BeautifulSoup(html, 'html.parser')\n",
        "\n",
        "# Encontrar los elementos que contienen los números ganadores\n",
        "results = soup.find_all('div', class_='resultsdrawing')\n",
        "print(results)\n",
        "\n"
      ],
      "metadata": {
        "colab": {
          "base_uri": "https://localhost:8080/"
        },
        "id": "wYUTNKw36i4Q",
        "outputId": "d5f9d844-440d-41f6-8a44-04cf7fb73cf3"
      },
      "execution_count": 5,
      "outputs": [
        {
          "output_type": "stream",
          "name": "stdout",
          "text": [
            "[]\n"
          ]
        }
      ]
    }
  ]
}