{
  "nbformat": 4,
  "nbformat_minor": 0,
  "metadata": {
    "colab": {
      "provenance": [],
      "authorship_tag": "ABX9TyOD1lHpz9kQdg5E2tEwJVlU",
      "include_colab_link": true
    },
    "kernelspec": {
      "name": "python3",
      "display_name": "Python 3"
    },
    "language_info": {
      "name": "python"
    }
  },
  "cells": [
    {
      "cell_type": "markdown",
      "metadata": {
        "id": "view-in-github",
        "colab_type": "text"
      },
      "source": [
        "<a href=\"https://colab.research.google.com/github/igBerroteran/2-auth-password/blob/main/DataSetBanco.ipynb\" target=\"_parent\"><img src=\"https://colab.research.google.com/assets/colab-badge.svg\" alt=\"Open In Colab\"/></a>"
      ]
    },
    {
      "cell_type": "code",
      "source": [
        "import pandas as pd\n",
        "\n",
        "# Definir los datos\n",
        "data = [\n",
        "    {\"Fecha\": \"2023-12-31\", \"Numeros\": \"01 02 04 07 09 18 21 24 25 29\", \"Adicional\": \"x4\"},\n",
        "    {\"Fecha\": \"2023-12-30\", \"Numeros\": \"06 08 15 19 26 28 31 32 37 38\", \"Adicional\": \"x1\"},\n",
        "    {\"Fecha\": \"2023-12-29\", \"Numeros\": \"06 11 18 20 24 25 32 33 34 36\", \"Adicional\": \"x3\"},\n",
        "    {\"Fecha\": \"2023-12-28\", \"Numeros\": \"04 11 15 22 23 31 37 40 43 47\", \"Adicional\": \"x3\"},\n",
        "    {\"Fecha\": \"2023-12-27\", \"Numeros\": \"05 08 10 15 16 22 25 26 27 29\", \"Adicional\": \"x2\"},\n",
        "    {\"Fecha\": \"2023-12-26\", \"Numeros\": \"01 09 10 14 17 25 31 33 38 39\", \"Adicional\": \"x1\"},\n",
        "    {\"Fecha\": \"2023-12-25\", \"Numeros\": \"02 19 20 21 22 26 30 32 33 37\", \"Adicional\": \"x2\"},\n",
        "    {\"Fecha\": \"2023-12-24\", \"Numeros\": \"09 11 17 18 23 24 32 33 34 38\", \"Adicional\": \"x1\"}\n",
        "]\n",
        "\n",
        "# Crear un DataFrame de pandas\n",
        "df = pd.DataFrame(data)\n",
        "\n",
        "# Mostrar el DataFrame\n",
        "print(df)\n"
      ],
      "metadata": {
        "colab": {
          "base_uri": "https://localhost:8080/"
        },
        "id": "wYUTNKw36i4Q",
        "outputId": "d5f9d844-440d-41f6-8a44-04cf7fb73cf3"
      },
      "execution_count": null,
      "outputs": [
        {
          "output_type": "stream",
          "name": "stdout",
          "text": [
            "[]\n"
          ]
        }
      ]
    }
  ]
}